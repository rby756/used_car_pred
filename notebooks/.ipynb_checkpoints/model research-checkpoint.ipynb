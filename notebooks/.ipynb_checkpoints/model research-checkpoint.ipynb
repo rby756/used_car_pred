{
 "cells": [
  {
   "cell_type": "code",
   "execution_count": null,
   "id": "26b4a48d",
   "metadata": {},
   "outputs": [],
   "source": []
  },
  {
   "cell_type": "code",
   "execution_count": 19,
   "id": "725ba3d6",
   "metadata": {},
   "outputs": [],
   "source": [
    "import pandas as pd\n",
    "import numpy as np\n",
    "import sklearn\n",
    "from sklearn.model_selection import train_test_split\n",
    "from category_encoders import TargetEncoder\n",
    "from sklearn.compose import ColumnTransformer\n",
    "from sklearn.pipeline import Pipeline\n",
    "from sklearn.preprocessing import OrdinalEncoder, OneHotEncoder, StandardScaler\n",
    "from sklearn.impute import KNNImputer\n",
    "from sklearn.linear_model import SGDRegressor\n",
    "from sklearn.ensemble import RandomForestRegressor, AdaBoostRegressor\n",
    "from catboost import CatBoostRegressor\n",
    "from xgboost import XGBRegressor\n",
    "from sklearn.metrics import mean_absolute_error, mean_squared_error, r2_score\n",
    "from sklearn.base import BaseEstimator, TransformerMixin\n",
    "import mlflow\n",
    "import mlflow.sklearn"
   ]
  },
  {
   "cell_type": "code",
   "execution_count": 2,
   "id": "c333bcc3",
   "metadata": {},
   "outputs": [
    {
     "data": {
      "text/html": [
       "<div>\n",
       "<style scoped>\n",
       "    .dataframe tbody tr th:only-of-type {\n",
       "        vertical-align: middle;\n",
       "    }\n",
       "\n",
       "    .dataframe tbody tr th {\n",
       "        vertical-align: top;\n",
       "    }\n",
       "\n",
       "    .dataframe thead th {\n",
       "        text-align: right;\n",
       "    }\n",
       "</style>\n",
       "<table border=\"1\" class=\"dataframe\">\n",
       "  <thead>\n",
       "    <tr style=\"text-align: right;\">\n",
       "      <th></th>\n",
       "      <th>car_name</th>\n",
       "      <th>registration_year</th>\n",
       "      <th>insurance_validity</th>\n",
       "      <th>fuel_type</th>\n",
       "      <th>ownsership</th>\n",
       "      <th>transmission</th>\n",
       "      <th>manufacturing_year</th>\n",
       "      <th>seats</th>\n",
       "      <th>kms_driven</th>\n",
       "      <th>mileage(kmpl)</th>\n",
       "      <th>engine(cc)</th>\n",
       "      <th>torque(Nm)</th>\n",
       "      <th>price(in lakhs)</th>\n",
       "      <th>short_carname</th>\n",
       "    </tr>\n",
       "  </thead>\n",
       "  <tbody>\n",
       "    <tr>\n",
       "      <th>0</th>\n",
       "      <td>2017 Mercedes-Benz S-Class S400</td>\n",
       "      <td>2017</td>\n",
       "      <td>Comprehensive</td>\n",
       "      <td>Petrol</td>\n",
       "      <td>First Owner</td>\n",
       "      <td>Automatic</td>\n",
       "      <td>2017</td>\n",
       "      <td>5.0</td>\n",
       "      <td>56000.0</td>\n",
       "      <td>7.81</td>\n",
       "      <td>2996.0</td>\n",
       "      <td>333.0</td>\n",
       "      <td>63.75</td>\n",
       "      <td>Mercedes-Benz S-Class</td>\n",
       "    </tr>\n",
       "    <tr>\n",
       "      <th>1</th>\n",
       "      <td>2020 Nissan Magnite Turbo CVT XV Premium Opt BSVI</td>\n",
       "      <td>2021</td>\n",
       "      <td>Comprehensive</td>\n",
       "      <td>Petrol</td>\n",
       "      <td>First Owner</td>\n",
       "      <td>Automatic</td>\n",
       "      <td>2020</td>\n",
       "      <td>5.0</td>\n",
       "      <td>30615.0</td>\n",
       "      <td>17.40</td>\n",
       "      <td>999.0</td>\n",
       "      <td>9863.0</td>\n",
       "      <td>8.99</td>\n",
       "      <td>Nissan Magnite</td>\n",
       "    </tr>\n",
       "    <tr>\n",
       "      <th>2</th>\n",
       "      <td>2018 BMW X1 sDrive 20d xLine</td>\n",
       "      <td>2018</td>\n",
       "      <td>Comprehensive</td>\n",
       "      <td>Diesel</td>\n",
       "      <td>First Owner</td>\n",
       "      <td>Automatic</td>\n",
       "      <td>2018</td>\n",
       "      <td>5.0</td>\n",
       "      <td>24000.0</td>\n",
       "      <td>20.68</td>\n",
       "      <td>1995.0</td>\n",
       "      <td>188.0</td>\n",
       "      <td>23.75</td>\n",
       "      <td>BMW X1</td>\n",
       "    </tr>\n",
       "    <tr>\n",
       "      <th>3</th>\n",
       "      <td>2019 Kia Seltos GTX Plus</td>\n",
       "      <td>2019</td>\n",
       "      <td>Comprehensive</td>\n",
       "      <td>Petrol</td>\n",
       "      <td>First Owner</td>\n",
       "      <td>Manual</td>\n",
       "      <td>2019</td>\n",
       "      <td>5.0</td>\n",
       "      <td>18378.0</td>\n",
       "      <td>16.50</td>\n",
       "      <td>1353.0</td>\n",
       "      <td>13808.0</td>\n",
       "      <td>13.56</td>\n",
       "      <td>Kia Seltos</td>\n",
       "    </tr>\n",
       "    <tr>\n",
       "      <th>4</th>\n",
       "      <td>2019 Skoda Superb LK 1.8 TSI AT</td>\n",
       "      <td>2019</td>\n",
       "      <td>Comprehensive</td>\n",
       "      <td>Petrol</td>\n",
       "      <td>First Owner</td>\n",
       "      <td>Automatic</td>\n",
       "      <td>2019</td>\n",
       "      <td>5.0</td>\n",
       "      <td>44900.0</td>\n",
       "      <td>14.67</td>\n",
       "      <td>1798.0</td>\n",
       "      <td>17746.0</td>\n",
       "      <td>24.00</td>\n",
       "      <td>Skoda Superb</td>\n",
       "    </tr>\n",
       "  </tbody>\n",
       "</table>\n",
       "</div>"
      ],
      "text/plain": [
       "                                            car_name  registration_year  \\\n",
       "0                    2017 Mercedes-Benz S-Class S400               2017   \n",
       "1  2020 Nissan Magnite Turbo CVT XV Premium Opt BSVI               2021   \n",
       "2                       2018 BMW X1 sDrive 20d xLine               2018   \n",
       "3                           2019 Kia Seltos GTX Plus               2019   \n",
       "4                    2019 Skoda Superb LK 1.8 TSI AT               2019   \n",
       "\n",
       "  insurance_validity fuel_type   ownsership transmission  manufacturing_year  \\\n",
       "0      Comprehensive    Petrol  First Owner    Automatic                2017   \n",
       "1      Comprehensive    Petrol  First Owner    Automatic                2020   \n",
       "2      Comprehensive    Diesel  First Owner    Automatic                2018   \n",
       "3      Comprehensive    Petrol  First Owner       Manual                2019   \n",
       "4      Comprehensive    Petrol  First Owner    Automatic                2019   \n",
       "\n",
       "   seats  kms_driven  mileage(kmpl)  engine(cc)  torque(Nm)  price(in lakhs)  \\\n",
       "0    5.0     56000.0           7.81      2996.0       333.0            63.75   \n",
       "1    5.0     30615.0          17.40       999.0      9863.0             8.99   \n",
       "2    5.0     24000.0          20.68      1995.0       188.0            23.75   \n",
       "3    5.0     18378.0          16.50      1353.0     13808.0            13.56   \n",
       "4    5.0     44900.0          14.67      1798.0     17746.0            24.00   \n",
       "\n",
       "           short_carname  \n",
       "0  Mercedes-Benz S-Class  \n",
       "1         Nissan Magnite  \n",
       "2                 BMW X1  \n",
       "3             Kia Seltos  \n",
       "4           Skoda Superb  "
      ]
     },
     "execution_count": 2,
     "metadata": {},
     "output_type": "execute_result"
    }
   ],
   "source": [
    "data=pd.read_csv(\"data.csv\")\n",
    "data.head(5)"
   ]
  },
  {
   "cell_type": "code",
   "execution_count": 3,
   "id": "7dd20152",
   "metadata": {},
   "outputs": [
    {
     "data": {
      "text/plain": [
       "(1085, 14)"
      ]
     },
     "execution_count": 3,
     "metadata": {},
     "output_type": "execute_result"
    }
   ],
   "source": [
    "df=data.copy()\n",
    "df.shape"
   ]
  },
  {
   "cell_type": "code",
   "execution_count": 4,
   "id": "7679c6f8",
   "metadata": {},
   "outputs": [
    {
     "data": {
      "text/plain": [
       "(1085, 12)"
      ]
     },
     "execution_count": 4,
     "metadata": {},
     "output_type": "execute_result"
    }
   ],
   "source": [
    "df.drop(['car_name','registration_year'],inplace=True,axis=1)\n",
    "df.shape"
   ]
  },
  {
   "cell_type": "code",
   "execution_count": 5,
   "id": "77a3fed6",
   "metadata": {},
   "outputs": [
    {
     "data": {
      "text/plain": [
       "insurance_validity     object\n",
       "fuel_type              object\n",
       "ownsership             object\n",
       "transmission           object\n",
       "manufacturing_year      int64\n",
       "seats                 float64\n",
       "kms_driven            float64\n",
       "mileage(kmpl)         float64\n",
       "engine(cc)            float64\n",
       "torque(Nm)            float64\n",
       "price(in lakhs)       float64\n",
       "short_carname          object\n",
       "dtype: object"
      ]
     },
     "execution_count": 5,
     "metadata": {},
     "output_type": "execute_result"
    }
   ],
   "source": [
    "df.dtypes"
   ]
  },
  {
   "cell_type": "markdown",
   "id": "a4fce548",
   "metadata": {},
   "source": [
    "# Encoding"
   ]
  },
  {
   "cell_type": "code",
   "execution_count": 6,
   "id": "c25fc5ce",
   "metadata": {},
   "outputs": [],
   "source": [
    "df_categorical_features=df.select_dtypes(include=\"object\")\n",
    "df_numerical_features=df.select_dtypes(include=\"number\")"
   ]
  },
  {
   "cell_type": "code",
   "execution_count": 7,
   "id": "cd8f9e3e",
   "metadata": {},
   "outputs": [
    {
     "data": {
      "text/plain": [
       "insurance_validity    object\n",
       "fuel_type             object\n",
       "ownsership            object\n",
       "transmission          object\n",
       "short_carname         object\n",
       "dtype: object"
      ]
     },
     "execution_count": 7,
     "metadata": {},
     "output_type": "execute_result"
    }
   ],
   "source": [
    "df_categorical_features.dtypes"
   ]
  },
  {
   "cell_type": "code",
   "execution_count": 8,
   "id": "f29ca09a",
   "metadata": {},
   "outputs": [
    {
     "data": {
      "text/plain": [
       "manufacturing_year      int64\n",
       "seats                 float64\n",
       "kms_driven            float64\n",
       "mileage(kmpl)         float64\n",
       "engine(cc)            float64\n",
       "torque(Nm)            float64\n",
       "price(in lakhs)       float64\n",
       "dtype: object"
      ]
     },
     "execution_count": 8,
     "metadata": {},
     "output_type": "execute_result"
    }
   ],
   "source": [
    "df_numerical_features.dtypes"
   ]
  },
  {
   "cell_type": "code",
   "execution_count": 9,
   "id": "2c9148cd",
   "metadata": {},
   "outputs": [],
   "source": [
    "# Splitting the data into training and test sets\n",
    "X = df.drop('price(in lakhs)', axis=1)\n",
    "y = df['price(in lakhs)']\n",
    "X_train, X_test, y_train, y_test = train_test_split(X, y, test_size=0.2, random_state=42)\n"
   ]
  },
  {
   "cell_type": "code",
   "execution_count": 10,
   "id": "034c357e",
   "metadata": {},
   "outputs": [
    {
     "data": {
      "text/html": [
       "<div>\n",
       "<style scoped>\n",
       "    .dataframe tbody tr th:only-of-type {\n",
       "        vertical-align: middle;\n",
       "    }\n",
       "\n",
       "    .dataframe tbody tr th {\n",
       "        vertical-align: top;\n",
       "    }\n",
       "\n",
       "    .dataframe thead th {\n",
       "        text-align: right;\n",
       "    }\n",
       "</style>\n",
       "<table border=\"1\" class=\"dataframe\">\n",
       "  <thead>\n",
       "    <tr style=\"text-align: right;\">\n",
       "      <th></th>\n",
       "      <th>insurance_validity</th>\n",
       "      <th>fuel_type</th>\n",
       "      <th>ownsership</th>\n",
       "      <th>transmission</th>\n",
       "      <th>manufacturing_year</th>\n",
       "      <th>seats</th>\n",
       "      <th>kms_driven</th>\n",
       "      <th>mileage(kmpl)</th>\n",
       "      <th>engine(cc)</th>\n",
       "      <th>torque(Nm)</th>\n",
       "      <th>short_carname</th>\n",
       "    </tr>\n",
       "  </thead>\n",
       "  <tbody>\n",
       "    <tr>\n",
       "      <th>522</th>\n",
       "      <td>Comprehensive</td>\n",
       "      <td>Petrol</td>\n",
       "      <td>Second Owner</td>\n",
       "      <td>Automatic</td>\n",
       "      <td>2017</td>\n",
       "      <td>4.0</td>\n",
       "      <td>31900.0</td>\n",
       "      <td>16.47</td>\n",
       "      <td>1998.0</td>\n",
       "      <td>231.0</td>\n",
       "      <td>Mini 3</td>\n",
       "    </tr>\n",
       "    <tr>\n",
       "      <th>851</th>\n",
       "      <td>Comprehensive</td>\n",
       "      <td>Petrol</td>\n",
       "      <td>First Owner</td>\n",
       "      <td>Manual</td>\n",
       "      <td>2018</td>\n",
       "      <td>7.0</td>\n",
       "      <td>35000.0</td>\n",
       "      <td>15.40</td>\n",
       "      <td>1497.0</td>\n",
       "      <td>1173.0</td>\n",
       "      <td>Honda BR-V</td>\n",
       "    </tr>\n",
       "    <tr>\n",
       "      <th>215</th>\n",
       "      <td>Comprehensive</td>\n",
       "      <td>Petrol</td>\n",
       "      <td>First Owner</td>\n",
       "      <td>Automatic</td>\n",
       "      <td>2022</td>\n",
       "      <td>4.0</td>\n",
       "      <td>4000.0</td>\n",
       "      <td>11.86</td>\n",
       "      <td>2998.0</td>\n",
       "      <td>33525.0</td>\n",
       "      <td>BMW 7</td>\n",
       "    </tr>\n",
       "    <tr>\n",
       "      <th>628</th>\n",
       "      <td>Zero Dep</td>\n",
       "      <td>Petrol</td>\n",
       "      <td>First Owner</td>\n",
       "      <td>Manual</td>\n",
       "      <td>2017</td>\n",
       "      <td>5.0</td>\n",
       "      <td>103209.0</td>\n",
       "      <td>21.40</td>\n",
       "      <td>1197.0</td>\n",
       "      <td>831.0</td>\n",
       "      <td>Maruti Baleno</td>\n",
       "    </tr>\n",
       "    <tr>\n",
       "      <th>593</th>\n",
       "      <td>Comprehensive</td>\n",
       "      <td>Petrol</td>\n",
       "      <td>First Owner</td>\n",
       "      <td>Manual</td>\n",
       "      <td>2015</td>\n",
       "      <td>5.0</td>\n",
       "      <td>75499.0</td>\n",
       "      <td>1197.00</td>\n",
       "      <td>82.0</td>\n",
       "      <td>114.0</td>\n",
       "      <td>Hyundai Grand</td>\n",
       "    </tr>\n",
       "    <tr>\n",
       "      <th>...</th>\n",
       "      <td>...</td>\n",
       "      <td>...</td>\n",
       "      <td>...</td>\n",
       "      <td>...</td>\n",
       "      <td>...</td>\n",
       "      <td>...</td>\n",
       "      <td>...</td>\n",
       "      <td>...</td>\n",
       "      <td>...</td>\n",
       "      <td>...</td>\n",
       "      <td>...</td>\n",
       "    </tr>\n",
       "    <tr>\n",
       "      <th>330</th>\n",
       "      <td>Third Party</td>\n",
       "      <td>Diesel</td>\n",
       "      <td>Second Owner</td>\n",
       "      <td>Automatic</td>\n",
       "      <td>2015</td>\n",
       "      <td>5.0</td>\n",
       "      <td>43600.0</td>\n",
       "      <td>17.11</td>\n",
       "      <td>1968.0</td>\n",
       "      <td>17433.0</td>\n",
       "      <td>Audi A4</td>\n",
       "    </tr>\n",
       "    <tr>\n",
       "      <th>466</th>\n",
       "      <td>Comprehensive</td>\n",
       "      <td>Diesel</td>\n",
       "      <td>Second Owner</td>\n",
       "      <td>Automatic</td>\n",
       "      <td>2017</td>\n",
       "      <td>7.0</td>\n",
       "      <td>52000.0</td>\n",
       "      <td>12.90</td>\n",
       "      <td>2755.0</td>\n",
       "      <td>1745.0</td>\n",
       "      <td>Toyota Fortuner</td>\n",
       "    </tr>\n",
       "    <tr>\n",
       "      <th>121</th>\n",
       "      <td>Comprehensive</td>\n",
       "      <td>Petrol</td>\n",
       "      <td>First Owner</td>\n",
       "      <td>Manual</td>\n",
       "      <td>2010</td>\n",
       "      <td>5.0</td>\n",
       "      <td>75000.0</td>\n",
       "      <td>19.00</td>\n",
       "      <td>998.0</td>\n",
       "      <td>661.0</td>\n",
       "      <td>Maruti A-Star</td>\n",
       "    </tr>\n",
       "    <tr>\n",
       "      <th>1044</th>\n",
       "      <td>Comprehensive</td>\n",
       "      <td>Diesel</td>\n",
       "      <td>First Owner</td>\n",
       "      <td>Automatic</td>\n",
       "      <td>2020</td>\n",
       "      <td>5.0</td>\n",
       "      <td>24000.0</td>\n",
       "      <td>24.30</td>\n",
       "      <td>1248.0</td>\n",
       "      <td>885.0</td>\n",
       "      <td>Maruti Vitara</td>\n",
       "    </tr>\n",
       "    <tr>\n",
       "      <th>860</th>\n",
       "      <td>Comprehensive</td>\n",
       "      <td>Diesel</td>\n",
       "      <td>First Owner</td>\n",
       "      <td>Manual</td>\n",
       "      <td>2018</td>\n",
       "      <td>7.0</td>\n",
       "      <td>66019.0</td>\n",
       "      <td>24.20</td>\n",
       "      <td>1498.0</td>\n",
       "      <td>9387.0</td>\n",
       "      <td>Maruti Ertiga</td>\n",
       "    </tr>\n",
       "  </tbody>\n",
       "</table>\n",
       "<p>868 rows × 11 columns</p>\n",
       "</div>"
      ],
      "text/plain": [
       "     insurance_validity fuel_type    ownsership transmission  \\\n",
       "522       Comprehensive    Petrol  Second Owner    Automatic   \n",
       "851       Comprehensive    Petrol   First Owner       Manual   \n",
       "215       Comprehensive    Petrol   First Owner    Automatic   \n",
       "628            Zero Dep    Petrol   First Owner       Manual   \n",
       "593       Comprehensive    Petrol   First Owner       Manual   \n",
       "...                 ...       ...           ...          ...   \n",
       "330         Third Party    Diesel  Second Owner    Automatic   \n",
       "466       Comprehensive    Diesel  Second Owner    Automatic   \n",
       "121       Comprehensive    Petrol   First Owner       Manual   \n",
       "1044      Comprehensive    Diesel   First Owner    Automatic   \n",
       "860       Comprehensive    Diesel   First Owner       Manual   \n",
       "\n",
       "      manufacturing_year  seats  kms_driven  mileage(kmpl)  engine(cc)  \\\n",
       "522                 2017    4.0     31900.0          16.47      1998.0   \n",
       "851                 2018    7.0     35000.0          15.40      1497.0   \n",
       "215                 2022    4.0      4000.0          11.86      2998.0   \n",
       "628                 2017    5.0    103209.0          21.40      1197.0   \n",
       "593                 2015    5.0     75499.0        1197.00        82.0   \n",
       "...                  ...    ...         ...            ...         ...   \n",
       "330                 2015    5.0     43600.0          17.11      1968.0   \n",
       "466                 2017    7.0     52000.0          12.90      2755.0   \n",
       "121                 2010    5.0     75000.0          19.00       998.0   \n",
       "1044                2020    5.0     24000.0          24.30      1248.0   \n",
       "860                 2018    7.0     66019.0          24.20      1498.0   \n",
       "\n",
       "      torque(Nm)    short_carname  \n",
       "522        231.0           Mini 3  \n",
       "851       1173.0       Honda BR-V  \n",
       "215      33525.0            BMW 7  \n",
       "628        831.0    Maruti Baleno  \n",
       "593        114.0    Hyundai Grand  \n",
       "...          ...              ...  \n",
       "330      17433.0          Audi A4  \n",
       "466       1745.0  Toyota Fortuner  \n",
       "121        661.0    Maruti A-Star  \n",
       "1044       885.0    Maruti Vitara  \n",
       "860       9387.0    Maruti Ertiga  \n",
       "\n",
       "[868 rows x 11 columns]"
      ]
     },
     "execution_count": 10,
     "metadata": {},
     "output_type": "execute_result"
    }
   ],
   "source": [
    "X_train"
   ]
  },
  {
   "cell_type": "code",
   "execution_count": 11,
   "id": "c6e7a0a3",
   "metadata": {},
   "outputs": [],
   "source": [
    "# Preprocessing for numerical features\n",
    "numeric_features = ['manufacturing_year', 'seats', 'kms_driven',\n",
    "       'mileage(kmpl)', 'engine(cc)', 'torque(Nm)']\n",
    "numeric_transformer = Pipeline(steps=[\n",
    "    ('imputer', KNNImputer(n_neighbors=3)),  # Using KNNImputer\n",
    "    ('scaler', StandardScaler())\n",
    "])"
   ]
  },
  {
   "cell_type": "code",
   "execution_count": 12,
   "id": "e523d79d",
   "metadata": {},
   "outputs": [
    {
     "data": {
      "text/plain": [
       "array(['First Owner', 'Second Owner', 'Third Owner', 'Fifth Owner'],\n",
       "      dtype=object)"
      ]
     },
     "execution_count": 12,
     "metadata": {},
     "output_type": "execute_result"
    }
   ],
   "source": [
    "df['ownsership'].unique()"
   ]
  },
  {
   "cell_type": "code",
   "execution_count": 13,
   "id": "20ccd7cd",
   "metadata": {},
   "outputs": [],
   "source": [
    "# Preprocessing for categorical features excluding target encoding\n",
    "categorical_features = ['insurance_validity', 'fuel_type', 'ownsership', 'transmission']\n",
    "categorical_transformer = ColumnTransformer(\n",
    "    transformers=[\n",
    "        # Label Encoding for insurance_validity\n",
    "        ('insurance_validity', OrdinalEncoder(), ['insurance_validity']),\n",
    "\n",
    "        # One-Hot Encoding for fuel_type and transmission\n",
    "        ('fuel_type', OneHotEncoder(handle_unknown='ignore'), ['fuel_type']),\n",
    "        ('transmission', OneHotEncoder(handle_unknown='ignore'), ['transmission']),\n",
    "\n",
    "        # Ordinal Encoding for ownership\n",
    "        ('ownsership', OrdinalEncoder(categories=[['First Owner', 'Second Owner', 'Third Owner', 'Fourth Owner','Fifth Owner']]), ['ownsership'])\n",
    "    ],\n",
    "    remainder='passthrough'  # Pass the numeric features through without transformation\n",
    ")"
   ]
  },
  {
   "cell_type": "code",
   "execution_count": 14,
   "id": "69bd161c",
   "metadata": {},
   "outputs": [],
   "source": [
    "# Create the full pipeline with categorical and regressor\n",
    "preprocessor = ColumnTransformer(\n",
    "    transformers=[\n",
    "        ('num', numeric_transformer, numeric_features),\n",
    "        ('cat', categorical_transformer, categorical_features)\n",
    "    ]\n",
    ")\n"
   ]
  },
  {
   "cell_type": "code",
   "execution_count": 20,
   "id": "d3ea014a",
   "metadata": {},
   "outputs": [],
   "source": [
    "# Custom transformer for Target Encoding\n",
    "class TargetEncodingTransformer(BaseEstimator, TransformerMixin):\n",
    "    def __init__(self, cols=None):\n",
    "        self.cols = cols\n",
    "        self.encoder = TargetEncoder(cols=self.cols)\n",
    "    \n",
    "    def fit(self, X, y=None):\n",
    "        self.encoder.fit(X[self.cols], y)\n",
    "        return self\n",
    "    \n",
    "    def transform(self, X, y=None):\n",
    "        X[self.cols] = self.encoder.transform(X[self.cols])\n",
    "        return X\n"
   ]
  },
  {
   "cell_type": "code",
   "execution_count": 16,
   "id": "7d4a439e",
   "metadata": {},
   "outputs": [
    {
     "data": {
      "text/plain": [
       "<Experiment: artifact_location='file:///home/reby/Desktop/personal_Projects/car_price_prediction/notebooks/mlruns/878782879600896741', creation_time=1719384630906, experiment_id='878782879600896741', last_update_time=1719384630906, lifecycle_stage='active', name='Car Price Prediction', tags={}>"
      ]
     },
     "execution_count": 16,
     "metadata": {},
     "output_type": "execute_result"
    }
   ],
   "source": [
    "def train_and_log_model(model, model_name, X_train, y_train, X_test, y_test):\n",
    "    with mlflow.start_run(run_name=model_name):\n",
    "        \n",
    "        print(y_train)\n",
    "        # Create the full pipeline with the model\n",
    "        full_pipeline = Pipeline(steps=[\n",
    "            ('target_encoder', TargetEncodingTransformer(cols=['short_carname'])),\n",
    "            ('preprocessor', preprocessor),\n",
    "            ('regressor', model)\n",
    "        ])\n",
    "        \n",
    "        # Fit the model\n",
    "        full_pipeline.fit(X_train, y_train)\n",
    "        \n",
    "        # Predict on the test data\n",
    "        y_pred = full_pipeline.predict(X_test)\n",
    "        \n",
    "        # Evaluate the model\n",
    "        mae = mean_absolute_error(y_test, y_pred)\n",
    "        mse = mean_squared_error(y_test, y_pred)\n",
    "        rmse = mean_squared_error(y_test, y_pred, squared=False)\n",
    "        r2 = r2_score(y_test, y_pred)\n",
    "        \n",
    "        # Log model and metrics in MLflow\n",
    "        mlflow.sklearn.log_model(full_pipeline, model_name)\n",
    "        mlflow.log_metric(\"MAE\", mae)\n",
    "        mlflow.log_metric(\"MSE\", mse)\n",
    "        mlflow.log_metric(\"RMSE\", rmse)\n",
    "        mlflow.log_metric(\"R2\", r2)\n",
    "\n",
    "        \n",
    "        # Log model and metrics in MLflow\n",
    "        mlflow.sklearn.log_model(full_pipeline, model_name)\n",
    "        mlflow.log_metric(\"R2_score\", score)\n",
    "\n",
    "# Set the experiment\n",
    "mlflow.set_experiment(\"Car Price Prediction\")\n",
    "\n"
   ]
  },
  {
   "cell_type": "code",
   "execution_count": 17,
   "id": "8f30902e",
   "metadata": {},
   "outputs": [
    {
     "name": "stdout",
     "output_type": "stream",
     "text": [
      "522     31.00\n",
      "851      7.45\n",
      "215      1.25\n",
      "628      5.02\n",
      "593      4.56\n",
      "        ...  \n",
      "330     11.90\n",
      "466     25.50\n",
      "121      1.68\n",
      "1044     9.95\n",
      "860      7.75\n",
      "Name: price(in lakhs), Length: 868, dtype: float64\n"
     ]
    },
    {
     "ename": "NameError",
     "evalue": "name 'y_pred' is not defined",
     "output_type": "error",
     "traceback": [
      "\u001b[0;31m---------------------------------------------------------------------------\u001b[0m",
      "\u001b[0;31mNameError\u001b[0m                                 Traceback (most recent call last)",
      "Cell \u001b[0;32mIn[17], line 12\u001b[0m\n\u001b[1;32m     10\u001b[0m \u001b[38;5;66;03m# Train and log each model\u001b[39;00m\n\u001b[1;32m     11\u001b[0m \u001b[38;5;28;01mfor\u001b[39;00m model, model_name \u001b[38;5;129;01min\u001b[39;00m models:\n\u001b[0;32m---> 12\u001b[0m     \u001b[43mtrain_and_log_model\u001b[49m\u001b[43m(\u001b[49m\u001b[43mmodel\u001b[49m\u001b[43m,\u001b[49m\u001b[43m \u001b[49m\u001b[43mmodel_name\u001b[49m\u001b[43m,\u001b[49m\u001b[43m \u001b[49m\u001b[43mX_train\u001b[49m\u001b[43m,\u001b[49m\u001b[43m \u001b[49m\u001b[43my_train\u001b[49m\u001b[43m,\u001b[49m\u001b[43m \u001b[49m\u001b[43mX_test\u001b[49m\u001b[43m,\u001b[49m\u001b[43m \u001b[49m\u001b[43my_test\u001b[49m\u001b[43m)\u001b[49m\n",
      "Cell \u001b[0;32mIn[16], line 15\u001b[0m, in \u001b[0;36mtrain_and_log_model\u001b[0;34m(model, model_name, X_train, y_train, X_test, y_test)\u001b[0m\n\u001b[1;32m     12\u001b[0m full_pipeline\u001b[38;5;241m.\u001b[39mfit(X_train, y_train)\n\u001b[1;32m     14\u001b[0m \u001b[38;5;66;03m# Evaluate the model\u001b[39;00m\n\u001b[0;32m---> 15\u001b[0m mae \u001b[38;5;241m=\u001b[39m mean_absolute_error(y_test, \u001b[43my_pred\u001b[49m)\n\u001b[1;32m     16\u001b[0m mse \u001b[38;5;241m=\u001b[39m mean_squared_error(y_test, y_pred)\n\u001b[1;32m     17\u001b[0m rmse \u001b[38;5;241m=\u001b[39m mean_squared_error(y_test, y_pred, squared\u001b[38;5;241m=\u001b[39m\u001b[38;5;28;01mFalse\u001b[39;00m)\n",
      "\u001b[0;31mNameError\u001b[0m: name 'y_pred' is not defined"
     ]
    }
   ],
   "source": [
    "# List of models to train\n",
    "models = [\n",
    "    (SGDRegressor(max_iter=1000, tol=1e-3), \"SGDRegressor\"),\n",
    "    (RandomForestRegressor(n_estimators=100), \"RandomForestRegressor\"),\n",
    "    (CatBoostRegressor(iterations=100, silent=True), \"CatBoostRegressor\"),\n",
    "    (AdaBoostRegressor(n_estimators=100), \"AdaBoostRegressor\"),\n",
    "    (XGBRegressor(n_estimators=100, objective='reg:squarederror'), \"XGBRegressor\")\n",
    "]\n",
    "\n",
    "# Train and log each model\n",
    "for model, model_name in models:\n",
    "    train_and_log_model(model, model_name, X_train, y_train, X_test, y_test)\n"
   ]
  },
  {
   "cell_type": "code",
   "execution_count": null,
   "id": "d3f12d80",
   "metadata": {},
   "outputs": [],
   "source": [
    "X_train"
   ]
  },
  {
   "cell_type": "code",
   "execution_count": null,
   "id": "c59cea18",
   "metadata": {},
   "outputs": [],
   "source": []
  },
  {
   "cell_type": "code",
   "execution_count": null,
   "id": "f0d9c6dc",
   "metadata": {},
   "outputs": [],
   "source": []
  },
  {
   "cell_type": "code",
   "execution_count": null,
   "id": "b1acbfac",
   "metadata": {},
   "outputs": [],
   "source": []
  },
  {
   "cell_type": "code",
   "execution_count": null,
   "id": "e6214e3b",
   "metadata": {},
   "outputs": [],
   "source": []
  }
 ],
 "metadata": {
  "kernelspec": {
   "display_name": "jp_venv",
   "language": "python",
   "name": "jp_venv"
  },
  "language_info": {
   "codemirror_mode": {
    "name": "ipython",
    "version": 3
   },
   "file_extension": ".py",
   "mimetype": "text/x-python",
   "name": "python",
   "nbconvert_exporter": "python",
   "pygments_lexer": "ipython3",
   "version": "3.10.11"
  }
 },
 "nbformat": 4,
 "nbformat_minor": 5
}
